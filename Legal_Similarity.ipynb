{
  "cells": [
    {
      "cell_type": "code",
      "execution_count": 1,
      "metadata": {
        "id": "jwhyxqo7LFEM"
      },
      "outputs": [],
      "source": [
        "import nltk\n",
        "from nltk.corpus import stopwords\n",
        "from nltk.tokenize import word_tokenize\n",
        "from nltk.stem import WordNetLemmatizer\n"
      ]
    },
    {
      "cell_type": "code",
      "execution_count": 2,
      "metadata": {},
      "outputs": [],
      "source": [
        "from sklearn.feature_extraction.text import TfidfVectorizer\n",
        "from sklearn.metrics.pairwise import cosine_similarity"
      ]
    },
    {
      "cell_type": "code",
      "execution_count": 3,
      "metadata": {
        "id": "dtWiwBZzUaP9"
      },
      "outputs": [],
      "source": [
        "import numpy as np\n",
        "from numpy.linalg import norm"
      ]
    },
    {
      "cell_type": "code",
      "execution_count": 4,
      "metadata": {
        "id": "lP6Vmx5zM6dT"
      },
      "outputs": [],
      "source": [
        "def text_similarity(text1, text2):\n",
        "    # Tokenize and lemmatize the texts\n",
        "    tokens1 = word_tokenize(text1)\n",
        "    tokens2 = word_tokenize(text2)\n",
        "    lemmatizer = WordNetLemmatizer()\n",
        "    tokens1 = [lemmatizer.lemmatize(token) for token in tokens1]\n",
        "    tokens2 = [lemmatizer.lemmatize(token) for token in tokens2]\n",
        "\n",
        "    # Remove stopwords\n",
        "    stop_words = stopwords.words('english')\n",
        "    tokens1 = [token for token in tokens1 if token not in stop_words]\n",
        "    tokens2 = [token for token in tokens2 if token not in stop_words]\n",
        "\n",
        "    # Create the TF-IDF vectors\n",
        "    vectorizer = TfidfVectorizer()\n",
        "    vector1 = vectorizer.fit_transform(tokens1)\n",
        "    print(vector1.shape)\n",
        "    vector2 = vectorizer.transform(tokens2)\n",
        "    print(vector2.shape)\n",
        "    # Calculate the cosine similarity\n",
        "    #similarity = cosine_similarity(vector1, vector2)\n",
        "    similarity = np.dot(vector1, vector2)/(norm(vector1)*norm(vector2))\n",
        "    #print(similarity)\n",
        "\n",
        "    return similarity"
      ]
    },
    {
      "cell_type": "code",
      "execution_count": 5,
      "metadata": {
        "colab": {
          "base_uri": "https://localhost:8080/"
        },
        "id": "EryKedp8Oc35",
        "outputId": "f6b5c097-4a21-4546-f27a-17d1cc995040"
      },
      "outputs": [
        {
          "name": "stderr",
          "output_type": "stream",
          "text": [
            "[nltk_data] Downloading package punkt to\n",
            "[nltk_data]     C:\\Users\\Dell\\AppData\\Roaming\\nltk_data...\n",
            "[nltk_data]   Package punkt is already up-to-date!\n"
          ]
        },
        {
          "data": {
            "text/plain": [
              "True"
            ]
          },
          "execution_count": 5,
          "metadata": {},
          "output_type": "execute_result"
        }
      ],
      "source": [
        "import nltk\n",
        "nltk.download('punkt')\n"
      ]
    },
    {
      "cell_type": "code",
      "execution_count": 6,
      "metadata": {
        "colab": {
          "base_uri": "https://localhost:8080/"
        },
        "id": "pUPOUD5FOkfi",
        "outputId": "68b637c7-1839-4c28-ab09-a724a6aff4f8"
      },
      "outputs": [
        {
          "name": "stderr",
          "output_type": "stream",
          "text": [
            "[nltk_data] Downloading package wordnet to\n",
            "[nltk_data]     C:\\Users\\Dell\\AppData\\Roaming\\nltk_data...\n",
            "[nltk_data]   Package wordnet is already up-to-date!\n"
          ]
        },
        {
          "data": {
            "text/plain": [
              "True"
            ]
          },
          "execution_count": 6,
          "metadata": {},
          "output_type": "execute_result"
        }
      ],
      "source": [
        "nltk.download('wordnet')"
      ]
    },
    {
      "cell_type": "code",
      "execution_count": 7,
      "metadata": {
        "colab": {
          "base_uri": "https://localhost:8080/"
        },
        "id": "XDfzpO_vOrQL",
        "outputId": "d1ffa12d-4a08-41c5-c8e4-17648e6083c2"
      },
      "outputs": [
        {
          "name": "stderr",
          "output_type": "stream",
          "text": [
            "[nltk_data] Downloading package stopwords to\n",
            "[nltk_data]     C:\\Users\\Dell\\AppData\\Roaming\\nltk_data...\n",
            "[nltk_data]   Package stopwords is already up-to-date!\n"
          ]
        },
        {
          "data": {
            "text/plain": [
              "True"
            ]
          },
          "execution_count": 7,
          "metadata": {},
          "output_type": "execute_result"
        }
      ],
      "source": [
        "nltk.download('stopwords')"
      ]
    },
    {
      "cell_type": "code",
      "execution_count": null,
      "metadata": {},
      "outputs": [],
      "source": [
        "import csv\n",
        "with open('Judgement_4_csvfile.csv') as file_obj:\n",
        "      \n",
        "    # Create reader object by passing the file\n",
        "    # object to DictReader method\n",
        "    reader_obj = csv.DictReader(file_obj)\n",
        "      \n",
        "    # Iterate over each row in the csv file\n",
        "    # using reader object\n",
        "    for row in reader_obj:\n",
        "        print(row)"
      ]
    },
    {
      "cell_type": "code",
      "execution_count": 13,
      "metadata": {
        "id": "7pwfofVaWzWx"
      },
      "outputs": [],
      "source": [
        "issue = 'The heart of the matter would be whether the distinction made in Radheshyam Kejriwal (supra) applies to the factual score to the case at hand.'\n",
        "FAC1 = 'The present appeals, by special leave, are directed against the order dated 14.10.2013 passed by the High Court of Judicature at Signature Not Verified Bombay in Criminal Application No.497 of 2011 assailing the order Digitally signed by CHETAN KUMAR Date: 2016.06.01 16:56:12 IST'\n",
        "FAC2 = 'Being grieved by the order passed by the adjudicating authority, the company as well as the Directors preferred Appeal No.517 of 2005 and other connected appeals before the Appellate Tribunal for Foreign Exchange (for short, the tribunal).'\n",
        "FAC3 = 'From this sequence, it further flows that Section 18(2) is not applicable to the goods which were sold in international market by way of international transactions because these provisions are made applicable to the goods which are otherwise covered under Section 18(1)(a) and not otherwise.'\n",
        "FAC4 = 'As the goods in question were never exported outside India so Section 18(2) is in no way can be applied to these transactions because such international selling is not governed by Section 18(1)(a) of FER Act.'\n",
        "FAC5 =  'The impugned order has repeatedly said that for purchase of CPT colour tubes from Japan and Korea the appellant spent the foreign exchange.'\n",
        "FAC6 = 'May it be so.'\n",
        "FAC7 = 'But such spending of foreign exchange in international trade by an Indian person is not forbidden by Section 19 of FER Act.'\n",
        "FAC8 = 'If that is so, the appellant cannot be held guilty for Section 18(2) read with Section 18(3) of FER Act, 1973.'\n"
      ]
    },
    {
      "cell_type": "code",
      "execution_count": 14,
      "metadata": {
        "id": "JOx4f4x0Wq1p"
      },
      "outputs": [],
      "source": [
        "corpus = [issue, FAC1, FAC2, FAC3, FAC4, FAC5, FAC6, FAC7, FAC8]"
      ]
    },
    {
      "cell_type": "code",
      "execution_count": null,
      "metadata": {
        "colab": {
          "base_uri": "https://localhost:8080/"
        },
        "id": "FbgEtOj8XvSY",
        "outputId": "7dc6fa09-212a-4f55-e91b-7bb79238fb60"
      },
      "outputs": [
        {
          "name": "stdout",
          "output_type": "stream",
          "text": [
            "['The question, therefore, that arises in the present appeals is the entitlement of the appellant – University – Assessee to exemption from payment of tax under the provisions of Section 10(23C)(iiiab) of the Act which is in the following terms: 10. Incomes not included in total income.', 'Leave granted.', 'The appellant – University, namely, Visvesvraya Technological University (VTU) has been constituted under the Visveswaraiah Technological University Act, 1994 (for short “VTU Act”).', 'It discharges functions earlier performed by the Department of Technical Education, Government of Karnataka.', 'The University exercises control over all Government and Private Engineering Colleges within Karnataka.', 'For the Assessment Years 2004-2005 to 2009-2010 notices under Section 148 of the Income Tax Act, 1961 (for short “the Act”) were issued to the appellant – University – Assessee.', 'Eventually returns were filed for the Assessment Years in question declaring \"Nil\" income and claiming exemption under Section 10(23C)(iiiab) of the Act.', 'The aforesaid claim of exemption was negatived by the Assessing Officer who proceeded to make the assessments.', 'The same view has been taken by all the Authorities under the Act and also by the High Court in the order under challenge in the present proceedings.']\n"
          ]
        }
      ],
      "source": [
        "print(corpus)"
      ]
    },
    {
      "cell_type": "code",
      "execution_count": 15,
      "metadata": {
        "id": "NSTPJMttXyPX"
      },
      "outputs": [],
      "source": [
        "# Initialize an instance of tf-idf Vectorizer\n",
        "tfidf_vectorizer = TfidfVectorizer()\n",
        "\n",
        "# Generate the tf-idf vectors for the corpus\n",
        "tfidf_matrix = tfidf_vectorizer.fit_transform(corpus)\n",
        "\n"
      ]
    },
    {
      "cell_type": "code",
      "execution_count": 16,
      "metadata": {
        "colab": {
          "base_uri": "https://localhost:8080/"
        },
        "id": "5qXXtMYWYHpP",
        "outputId": "1118066c-5746-4a35-9a81-e2c8a40dd2b8"
      },
      "outputs": [
        {
          "name": "stdout",
          "output_type": "stream",
          "text": [
            "[[1.         0.17918635 0.22728647 0.17255114 0.13993058 0.17161196\n",
            "  0.05367329 0.03727602 0.0899831 ]\n",
            " [0.17918635 1.         0.25499513 0.12579898 0.11174336 0.14298999\n",
            "  0.         0.13303284 0.04659036]\n",
            " [0.22728647 0.25499513 1.         0.09612531 0.12960494 0.28114853\n",
            "  0.         0.11526254 0.10540278]\n",
            " [0.17255114 0.12579898 0.09612531 1.         0.4128139  0.11555533\n",
            "  0.0646909  0.17374412 0.20419986]\n",
            " [0.13993058 0.11174336 0.12960494 0.4128139  1.         0.03867394\n",
            "  0.11433386 0.30775202 0.35222614]\n",
            " [0.17161196 0.14298999 0.28114853 0.11555533 0.03867394 1.\n",
            "  0.         0.08772884 0.15832267]\n",
            " [0.05367329 0.         0.         0.0646909  0.11433386 0.\n",
            "  1.         0.         0.14921031]\n",
            " [0.03727602 0.13303284 0.11526254 0.17374412 0.30775202 0.08772884\n",
            "  0.         1.         0.17675754]\n",
            " [0.0899831  0.04659036 0.10540278 0.20419986 0.35222614 0.15832267\n",
            "  0.14921031 0.17675754 1.        ]]\n"
          ]
        }
      ],
      "source": [
        "# compute and print the cosine similarity matrix\n",
        "cosine_sim = cosine_similarity(tfidf_matrix, tfidf_matrix)\n",
        "print(cosine_sim)"
      ]
    },
    {
      "cell_type": "code",
      "execution_count": 17,
      "metadata": {
        "id": "1oslhWMzZaQe"
      },
      "outputs": [],
      "source": [
        "from sklearn.feature_extraction.text import CountVectorizer"
      ]
    },
    {
      "cell_type": "code",
      "execution_count": 18,
      "metadata": {
        "colab": {
          "base_uri": "https://localhost:8080/"
        },
        "id": "lhyunTJmZnDe",
        "outputId": "8d3abaf4-2607-4651-cca7-9b2d916a6f05"
      },
      "outputs": [
        {
          "data": {
            "text/plain": [
              "<9x147 sparse matrix of type '<class 'numpy.int64'>'\n",
              "\twith 222 stored elements in Compressed Sparse Row format>"
            ]
          },
          "execution_count": 18,
          "metadata": {},
          "output_type": "execute_result"
        }
      ],
      "source": [
        "count_vectorizer = CountVectorizer()\n",
        "vector_matrix = count_vectorizer.fit_transform(corpus)\n",
        "vector_matrix"
      ]
    },
    {
      "cell_type": "code",
      "execution_count": 82,
      "metadata": {
        "id": "dHHEw57naJru"
      },
      "outputs": [],
      "source": [
        "import pandas as pd\n",
        "\n",
        "def create_dataframe(matrix, tokens):\n",
        "\n",
        "    doc_names = [f'doc_{i+1}' for i, _ in enumerate(matrix)]\n",
        "    df = pd.DataFrame(data=matrix, index=tokens, columns=tokens)\n",
        "    \n",
        "    return(df)"
      ]
    },
    {
      "cell_type": "code",
      "execution_count": 83,
      "metadata": {
        "colab": {
          "base_uri": "https://localhost:8080/",
          "height": 1000
        },
        "id": "nMu0nUJIaMVf",
        "outputId": "881c603b-da80-4bec-ea9d-3270c3bef3f0"
      },
      "outputs": [
        {
          "data": {
            "text/html": [
              "<div>\n",
              "<style scoped>\n",
              "    .dataframe tbody tr th:only-of-type {\n",
              "        vertical-align: middle;\n",
              "    }\n",
              "\n",
              "    .dataframe tbody tr th {\n",
              "        vertical-align: top;\n",
              "    }\n",
              "\n",
              "    .dataframe thead th {\n",
              "        text-align: right;\n",
              "    }\n",
              "</style>\n",
              "<table border=\"1\" class=\"dataframe\">\n",
              "  <thead>\n",
              "    <tr style=\"text-align: right;\">\n",
              "      <th></th>\n",
              "      <th>issue</th>\n",
              "      <th>FAC1</th>\n",
              "      <th>FAC2</th>\n",
              "      <th>FAC3</th>\n",
              "      <th>FAC4</th>\n",
              "      <th>FAC5</th>\n",
              "      <th>FAC6</th>\n",
              "      <th>FAC7</th>\n",
              "      <th>FAC8</th>\n",
              "    </tr>\n",
              "  </thead>\n",
              "  <tbody>\n",
              "    <tr>\n",
              "      <th>issue</th>\n",
              "      <td>1.000000</td>\n",
              "      <td>0.412568</td>\n",
              "      <td>0.518688</td>\n",
              "      <td>0.302944</td>\n",
              "      <td>0.241890</td>\n",
              "      <td>0.433383</td>\n",
              "      <td>0.072932</td>\n",
              "      <td>0.085819</td>\n",
              "      <td>0.204211</td>\n",
              "    </tr>\n",
              "    <tr>\n",
              "      <th>FAC1</th>\n",
              "      <td>0.412568</td>\n",
              "      <td>1.000000</td>\n",
              "      <td>0.500183</td>\n",
              "      <td>0.259161</td>\n",
              "      <td>0.230967</td>\n",
              "      <td>0.350150</td>\n",
              "      <td>0.000000</td>\n",
              "      <td>0.277350</td>\n",
              "      <td>0.141421</td>\n",
              "    </tr>\n",
              "    <tr>\n",
              "      <th>FAC2</th>\n",
              "      <td>0.518688</td>\n",
              "      <td>0.500183</td>\n",
              "      <td>1.000000</td>\n",
              "      <td>0.224221</td>\n",
              "      <td>0.207514</td>\n",
              "      <td>0.532518</td>\n",
              "      <td>0.000000</td>\n",
              "      <td>0.179969</td>\n",
              "      <td>0.206474</td>\n",
              "    </tr>\n",
              "    <tr>\n",
              "      <th>FAC3</th>\n",
              "      <td>0.302944</td>\n",
              "      <td>0.259161</td>\n",
              "      <td>0.224221</td>\n",
              "      <td>1.000000</td>\n",
              "      <td>0.534114</td>\n",
              "      <td>0.226863</td>\n",
              "      <td>0.061085</td>\n",
              "      <td>0.287513</td>\n",
              "      <td>0.317641</td>\n",
              "    </tr>\n",
              "    <tr>\n",
              "      <th>FAC4</th>\n",
              "      <td>0.241890</td>\n",
              "      <td>0.230967</td>\n",
              "      <td>0.207514</td>\n",
              "      <td>0.534114</td>\n",
              "      <td>1.000000</td>\n",
              "      <td>0.111979</td>\n",
              "      <td>0.150756</td>\n",
              "      <td>0.443484</td>\n",
              "      <td>0.482418</td>\n",
              "    </tr>\n",
              "    <tr>\n",
              "      <th>FAC5</th>\n",
              "      <td>0.433383</td>\n",
              "      <td>0.350150</td>\n",
              "      <td>0.532518</td>\n",
              "      <td>0.226863</td>\n",
              "      <td>0.111979</td>\n",
              "      <td>1.000000</td>\n",
              "      <td>0.000000</td>\n",
              "      <td>0.145671</td>\n",
              "      <td>0.259973</td>\n",
              "    </tr>\n",
              "    <tr>\n",
              "      <th>FAC6</th>\n",
              "      <td>0.072932</td>\n",
              "      <td>0.000000</td>\n",
              "      <td>0.000000</td>\n",
              "      <td>0.061085</td>\n",
              "      <td>0.150756</td>\n",
              "      <td>0.000000</td>\n",
              "      <td>1.000000</td>\n",
              "      <td>0.000000</td>\n",
              "      <td>0.200000</td>\n",
              "    </tr>\n",
              "    <tr>\n",
              "      <th>FAC7</th>\n",
              "      <td>0.085819</td>\n",
              "      <td>0.277350</td>\n",
              "      <td>0.179969</td>\n",
              "      <td>0.287513</td>\n",
              "      <td>0.443484</td>\n",
              "      <td>0.145671</td>\n",
              "      <td>0.000000</td>\n",
              "      <td>1.000000</td>\n",
              "      <td>0.274563</td>\n",
              "    </tr>\n",
              "    <tr>\n",
              "      <th>FAC8</th>\n",
              "      <td>0.204211</td>\n",
              "      <td>0.141421</td>\n",
              "      <td>0.206474</td>\n",
              "      <td>0.317641</td>\n",
              "      <td>0.482418</td>\n",
              "      <td>0.259973</td>\n",
              "      <td>0.200000</td>\n",
              "      <td>0.274563</td>\n",
              "      <td>1.000000</td>\n",
              "    </tr>\n",
              "  </tbody>\n",
              "</table>\n",
              "</div>"
            ],
            "text/plain": [
              "          issue      FAC1      FAC2      FAC3      FAC4      FAC5      FAC6  \\\n",
              "issue  1.000000  0.412568  0.518688  0.302944  0.241890  0.433383  0.072932   \n",
              "FAC1   0.412568  1.000000  0.500183  0.259161  0.230967  0.350150  0.000000   \n",
              "FAC2   0.518688  0.500183  1.000000  0.224221  0.207514  0.532518  0.000000   \n",
              "FAC3   0.302944  0.259161  0.224221  1.000000  0.534114  0.226863  0.061085   \n",
              "FAC4   0.241890  0.230967  0.207514  0.534114  1.000000  0.111979  0.150756   \n",
              "FAC5   0.433383  0.350150  0.532518  0.226863  0.111979  1.000000  0.000000   \n",
              "FAC6   0.072932  0.000000  0.000000  0.061085  0.150756  0.000000  1.000000   \n",
              "FAC7   0.085819  0.277350  0.179969  0.287513  0.443484  0.145671  0.000000   \n",
              "FAC8   0.204211  0.141421  0.206474  0.317641  0.482418  0.259973  0.200000   \n",
              "\n",
              "           FAC7      FAC8  \n",
              "issue  0.085819  0.204211  \n",
              "FAC1   0.277350  0.141421  \n",
              "FAC2   0.179969  0.206474  \n",
              "FAC3   0.287513  0.317641  \n",
              "FAC4   0.443484  0.482418  \n",
              "FAC5   0.145671  0.259973  \n",
              "FAC6   0.000000  0.200000  \n",
              "FAC7   1.000000  0.274563  \n",
              "FAC8   0.274563  1.000000  "
            ]
          },
          "execution_count": 83,
          "metadata": {},
          "output_type": "execute_result"
        }
      ],
      "source": [
        "cosine_similarity_matrix = cosine_similarity(vector_matrix)\n",
        "create_dataframe(cosine_similarity_matrix,['issue','FAC1', 'FAC2', 'FAC3', 'FAC4', 'FAC5', 'FAC6', 'FAC7', 'FAC8'])"
      ]
    },
    {
      "cell_type": "code",
      "execution_count": 37,
      "metadata": {},
      "outputs": [],
      "source": [
        "updated_corpus = FAC2+'.' + FAC5+'.' + FAC1+'.' + FAC3+'.' + FAC4+'.' + FAC8+'.'"
      ]
    },
    {
      "cell_type": "code",
      "execution_count": 38,
      "metadata": {},
      "outputs": [
        {
          "name": "stdout",
          "output_type": "stream",
          "text": [
            "Being grieved by the order passed by the adjudicating authority, the company as well as the Directors preferred Appeal No.517 of 2005 and other connected appeals before the Appellate Tribunal for Foreign Exchange (for short, the tribunal)..The impugned order has repeatedly said that for purchase of CPT colour tubes from Japan and Korea the appellant spent the foreign exchange..The present appeals, by special leave, are directed against the order dated 14.10.2013 passed by the High Court of Judicature at Signature Not Verified Bombay in Criminal Application No.497 of 2011 assailing the order Digitally signed by CHETAN KUMAR Date: 2016.06.01 16:56:12 IST.From this sequence, it further flows that Section 18(2) is not applicable to the goods which were sold in international market by way of international transactions because these provisions are made applicable to the goods which are otherwise covered under Section 18(1)(a) and not otherwise..As the goods in question were never exported outside India so Section 18(2) is in no way can be applied to these transactions because such international selling is not governed by Section 18(1)(a) of FER Act..If that is so, the appellant cannot be held guilty for Section 18(2) read with Section 18(3) of FER Act, 1973..\n"
          ]
        }
      ],
      "source": [
        "print(updated_corpus)"
      ]
    },
    {
      "cell_type": "code",
      "execution_count": 29,
      "metadata": {},
      "outputs": [
        {
          "name": "stdout",
          "output_type": "stream",
          "text": [
            "0.41256849850351746\n"
          ]
        }
      ],
      "source": [
        "print(cosine_similarity_matrix[0][1])"
      ]
    },
    {
      "cell_type": "code",
      "execution_count": 22,
      "metadata": {},
      "outputs": [],
      "source": [
        "import matplotlib.pyplot as plt\n",
        "import numpy as np"
      ]
    },
    {
      "cell_type": "code",
      "execution_count": 30,
      "metadata": {},
      "outputs": [
        {
          "ename": "IndexError",
          "evalue": "only integers, slices (`:`), ellipsis (`...`), numpy.newaxis (`None`) and integer or boolean arrays are valid indices",
          "output_type": "error",
          "traceback": [
            "\u001b[1;31m---------------------------------------------------------------------------\u001b[0m",
            "\u001b[1;31mIndexError\u001b[0m                                Traceback (most recent call last)",
            "\u001b[1;32mc:\\Users\\Dell\\OneDrive\\PhD-Related\\legal-brief-work\\LegalSimilarity\\Legal_Similarity.ipynb Cell 20\u001b[0m line \u001b[0;36m1\n\u001b[1;32m----> <a href='vscode-notebook-cell:/c%3A/Users/Dell/OneDrive/PhD-Related/legal-brief-work/LegalSimilarity/Legal_Similarity.ipynb#X32sZmlsZQ%3D%3D?line=0'>1</a>\u001b[0m plt\u001b[39m.\u001b[39mplot(cosine_similarity_matrix[\u001b[39m0\u001b[39m][\u001b[39m0\u001b[39m], cosine_similarity_matrix[\u001b[39m0\u001b[39m][\u001b[39m1\u001b[39m], cosine_similarity_matrix[\u001b[39m0\u001b[39m][\u001b[39m2\u001b[39m], cosine_similarity_matrix[\u001b[39m0\u001b[39;49m][\u001b[39m3\u001b[39;49m, cosine_similarity_matrix[\u001b[39m0\u001b[39;49m][\u001b[39m4\u001b[39;49m], cosine_similarity_matrix[\u001b[39m0\u001b[39;49m][\u001b[39m5\u001b[39;49m], cosine_similarity_matrix[\u001b[39m0\u001b[39;49m][\u001b[39m6\u001b[39;49m], cosine_similarity_matrix[\u001b[39m0\u001b[39;49m][\u001b[39m7\u001b[39;49m], cosine_similarity_matrix[\u001b[39m0\u001b[39;49m][\u001b[39m8\u001b[39;49m]])\n\u001b[0;32m      <a href='vscode-notebook-cell:/c%3A/Users/Dell/OneDrive/PhD-Related/legal-brief-work/LegalSimilarity/Legal_Similarity.ipynb#X32sZmlsZQ%3D%3D?line=1'>2</a>\u001b[0m plt\u001b[39m.\u001b[39mtitle(\u001b[39m'\u001b[39m\u001b[39mGRID REPRESENTATION\u001b[39m\u001b[39m'\u001b[39m)\n\u001b[0;32m      <a href='vscode-notebook-cell:/c%3A/Users/Dell/OneDrive/PhD-Related/legal-brief-work/LegalSimilarity/Legal_Similarity.ipynb#X32sZmlsZQ%3D%3D?line=2'>3</a>\u001b[0m plt\u001b[39m.\u001b[39mxlabel(\u001b[39m'\u001b[39m\u001b[39mX-axis\u001b[39m\u001b[39m'\u001b[39m)\n",
            "\u001b[1;31mIndexError\u001b[0m: only integers, slices (`:`), ellipsis (`...`), numpy.newaxis (`None`) and integer or boolean arrays are valid indices"
          ]
        }
      ],
      "source": [
        "plt.plot(cosine_similarity_matrix[0][0], cosine_similarity_matrix[0][1], cosine_similarity_matrix[0][2], cosine_similarity_matrix[0][3, cosine_similarity_matrix[0][4], cosine_similarity_matrix[0][5], cosine_similarity_matrix[0][6], cosine_similarity_matrix[0][7], cosine_similarity_matrix[0][8]])\n",
        "plt.title('GRID REPRESENTATION')\n",
        "plt.xlabel('X-axis')\n",
        "plt.ylabel('Y-axis')"
      ]
    }
  ],
  "metadata": {
    "colab": {
      "provenance": []
    },
    "kernelspec": {
      "display_name": "Python 3",
      "name": "python3"
    },
    "language_info": {
      "codemirror_mode": {
        "name": "ipython",
        "version": 3
      },
      "file_extension": ".py",
      "mimetype": "text/x-python",
      "name": "python",
      "nbconvert_exporter": "python",
      "pygments_lexer": "ipython3",
      "version": "3.11.5"
    }
  },
  "nbformat": 4,
  "nbformat_minor": 0
}
